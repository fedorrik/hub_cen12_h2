{
 "cells": [
  {
   "cell_type": "code",
   "execution_count": 1,
   "id": "0309557c-1d99-437b-9a4b-db67309340d1",
   "metadata": {},
   "outputs": [],
   "source": [
    "import tsv"
   ]
  },
  {
   "cell_type": "code",
   "execution_count": 2,
   "id": "c6ae9708-c7fc-4efa-bb56-04bcc6ec9b1c",
   "metadata": {},
   "outputs": [],
   "source": [
    "def change_name(bed_path):\n",
    "    out = []\n",
    "    for line in tsv.read_tsv(bed_path):\n",
    "        line[0] = line[0] + '#cen12_h2'\n",
    "        out.append(line)\n",
    "    tsv.write_tsv(bed_path, out)"
   ]
  },
  {
   "cell_type": "code",
   "execution_count": 3,
   "id": "4e79b5c4-46c2-4ecf-b90a-023a8f0cfe8d",
   "metadata": {},
   "outputs": [],
   "source": [
    "change_name('./hor.bed')\n",
    "change_name('./sf.bed')\n",
    "change_name('./strand.bed')\n",
    "change_name('./stv.bed')"
   ]
  }
 ],
 "metadata": {
  "kernelspec": {
   "display_name": "Python 3 (ipykernel)",
   "language": "python",
   "name": "python3"
  },
  "language_info": {
   "codemirror_mode": {
    "name": "ipython",
    "version": 3
   },
   "file_extension": ".py",
   "mimetype": "text/x-python",
   "name": "python",
   "nbconvert_exporter": "python",
   "pygments_lexer": "ipython3",
   "version": "3.9.15"
  }
 },
 "nbformat": 4,
 "nbformat_minor": 5
}
